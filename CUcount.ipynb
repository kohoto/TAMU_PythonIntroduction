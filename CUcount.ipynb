{
 "cells": [
  {
   "cell_type": "code",
   "execution_count": 1,
   "metadata": {},
   "outputs": [],
   "source": [
    "import numpy as np\n",
    "import matplotlib.pyplot as plt\n",
    "%matplotlib inline\n",
    "import cartopy\n",
    "import pandas as pd\n",
    "import os\n",
    "import math as mt\n",
    "import xarray as xr\n",
    "import xlrd as xl\n",
    "from scipy import stats\n",
    "import seaborn as sns  # for better style in plots\n",
    "import cartopy.crs as ccrs  # if you install yourself using Anaconda, use 'conda install -c scitools cartopy'\n",
    "import cartopy.feature as feature\n",
    "import numpy as np\n",
    "from cartopy.mpl.gridliner import LONGITUDE_FORMATTER, LATITUDE_FORMATTER\n"
   ]
  },
  {
   "cell_type": "code",
   "execution_count": 2,
   "metadata": {},
   "outputs": [],
   "source": [
    "# loc = (\"eddne\\Documents\\TAMU\\summer 2021\\ISEN 609- species.xlsx\")\n",
    "# To open Workbook\n",
    "# wb = xl.open_workbook(\"species.xlsx\")\n",
    "wb = [[1, 1, 0], [1, 1, 0], [0, 0, 1]]\n",
    "# wt = open(\"species.txt\",\"r\")\n",
    "\n",
    "# importing data\n",
    "# wb = pd.read_excel(\"species.xlsx\",index_col=0,skipfooter=1)"
   ]
  },
  {
   "cell_type": "code",
   "execution_count": 3,
   "metadata": {},
   "outputs": [],
   "source": [
    "wb;"
   ]
  },
  {
   "cell_type": "code",
   "execution_count": 4,
   "metadata": {},
   "outputs": [],
   "source": [
    "N = 1\n",
    "# Drop last N columns of dataframe\n",
    "# wb = wb.iloc[: , :-N]"
   ]
  },
  {
   "cell_type": "code",
   "execution_count": 5,
   "metadata": {},
   "outputs": [
    {
     "data": {
      "text/plain": [
       "array([[1, 1, 0],\n",
       "       [1, 1, 0],\n",
       "       [0, 0, 1]])"
      ]
     },
     "execution_count": 5,
     "metadata": {},
     "output_type": "execute_result"
    }
   ],
   "source": [
    "# imported data to array\n",
    "wb = np.asarray(wb)\n",
    "wb"
   ]
  },
  {
   "cell_type": "code",
   "execution_count": 6,
   "metadata": {},
   "outputs": [],
   "source": [
    "# the two type of checkboards\n",
    "CU1=np.array([[1,0],[0,1]])\n",
    "CU2=np.array([[0,1],[1,0]])"
   ]
  },
  {
   "cell_type": "code",
   "execution_count": 7,
   "metadata": {},
   "outputs": [
    {
     "name": "stdout",
     "output_type": "stream",
     "text": [
      "occurence count of checkboard is {4}\n"
     ]
    }
   ],
   "source": [
    "#function to perform CUcount on concurrence matrix\n",
    "def CUcount(wb):\n",
    "    m=0\n",
    "    for idx_sp in range(len(wb)):\n",
    "        for idx_sp2 in range(idx_sp+1,len(wb)):\n",
    "            for idx_isl in range(np.size(wb,1)-1):\n",
    "                for idx_isl2 in range(idx_isl,np.size(wb,1)):\n",
    "                    p1=wb[idx_sp,idx_isl]\n",
    "                    p2=wb[idx_sp,idx_isl2]\n",
    "                    p3=wb[idx_sp2,idx_isl]\n",
    "                    p4=wb[idx_sp2,idx_isl2]\n",
    "\n",
    "                    if np.array_equal([[p1,p2],[p3,p4]], CU1) or np.array_equal([[p1,p2],[p3,p4]], CU2):\n",
    "                        m+=1\n",
    "    return m\n",
    "m=CUcount(wb)                  \n",
    "print(f\"occurence count of checkboard is\",{m})\n",
    "                \n",
    "                "
   ]
  },
  {
   "cell_type": "code",
   "execution_count": 8,
   "metadata": {},
   "outputs": [],
   "source": [
    "#function for swaping operation\n",
    "def swap_operator(wb):\n",
    "    N=1000\n",
    "    for i in range(N):\n",
    "        CU_r=np.random.choice(wb.shape[0],2,replace=False) #selecting two random values in a row without replacing\n",
    "        CU_c=np.random.choice(wb.shape[1],2,replace=False) #selecting two random values in a coloumn without replacing\n",
    "\n",
    "        #if selected matrix is checkboard_1 then swap to checkboard_2\n",
    "        if (wb[CU_r[0],CU_c[0]]==CU1[0,0] and wb[CU_r[1],CU_c[1]]==CU1[1,1] and wb[CU_r[0],CU_c[1]]==CU1[0,1] and wb[CU_r[1],CU_c[0]]==CU1[1,0] ):\n",
    "            wb[CU_r[0],CU_c[0]]=CU2[0,0]\n",
    "            wb[CU_r[1],CU_c[1]]=CU2[1,1]\n",
    "            wb[CU_r[0],CU_c[1]]=CU2[0,1]\n",
    "            wb[CU_r[1],CU_c[0]]=CU2[1,0] \n",
    "            return wb\n",
    "\n",
    "        #if selected matrix is checkboard_2 then swap to checkboard_1\n",
    "        elif wb[CU_r[0],CU_c[0]]==CU2[0,0] and wb[CU_r[1],CU_c[1]]==CU2[1,1] and wb[CU_r[0],CU_c[1]]==CU2[0,1] and wb[CU_r[1],CU_c[0]]==CU2[1,0]:\n",
    "            \n",
    "            wb[CU_r[0],CU_c[0]]=CU1[0,0]\n",
    "            wb[CU_r[1],CU_c[1]]=CU1[1,1]\n",
    "            wb[CU_r[0],CU_c[1]]=CU1[0,1]\n",
    "            wb[CU_r[1],CU_c[0]]=CU1[1,0]\n",
    "             \n",
    "            return wb\n",
    "        elif i==999: #if no checkboards have been encountered after 999 trials\n",
    "            print('not able')\n",
    "             \n",
    "\n",
    "            \n",
    "        \n",
    "        \n",
    "        \n",
    "       "
   ]
  },
  {
   "cell_type": "code",
   "execution_count": 9,
   "metadata": {},
   "outputs": [],
   "source": [
    "# function to perform metropolis algorithm\n",
    "def police(wb):\n",
    "    cbd=CUcount(wb)                 # perfom CUcount on the original data wb\n",
    "    for i in range(1000):\n",
    "        wb_new = swap_operator(wb)  # perfom swap operation on the original data wb to get wb_new\n",
    "        cbd_new=CUcount(wb_new)     # perfom CUcount on the original data wb_new\n",
    "        U=np.random.uniform(0,1)    #randomly select a value between 0 and 1 (like coin toss)\n",
    "        if U<(cbd/cbd_new):         #compare random selection with ratio (akin to triming down)\n",
    "\n",
    "            return wb_new\n",
    "        elif i==999:                #if no checkboards have been encountered after 999 trials\n",
    "            print('tired')\n",
    "\n"
   ]
  },
  {
   "cell_type": "code",
   "execution_count": 10,
   "metadata": {},
   "outputs": [
    {
     "name": "stdout",
     "output_type": "stream",
     "text": [
      "Summation of CUs= 31972 mean= 3.1972 min CU= 3 max CU= 4 std= 0.39788460638732936 var= 0.15831216\n"
     ]
    }
   ],
   "source": [
    "# loop to count CUs after implementing metropolis\n",
    "Q=10000                              #no of steps\n",
    "no_CUs=[]                            #empty list initially\n",
    "for i in range(Q):\n",
    "    metro=police(wb)\n",
    "    no_CUs.append(CUcount(metro))\n",
    "Total=np.sum(no_CUs)\n",
    "mean=np.mean(no_CUs)\n",
    "minimum=np.min(no_CUs)\n",
    "maximum=np.max(no_CUs)\n",
    "std=np.std(no_CUs)\n",
    "var=std**2\n",
    "\n",
    "print(\"Summation of CUs=\",Total,\n",
    "      \"mean=\",mean,\n",
    "      \"min CU=\",minimum,\n",
    "      \"max CU=\",maximum,\n",
    "      \"std=\",std,\n",
    "      \"var=\",var)\n"
   ]
  },
  {
   "cell_type": "code",
   "execution_count": 11,
   "metadata": {},
   "outputs": [
    {
     "data": {
      "image/png": "[encoded data removed]",
      "text/plain": [
       "<Figure size 576x432 with 1 Axes>"
      ]
     },
     "metadata": {
      "needs_background": "light"
     },
     "output_type": "display_data"
    }
   ],
   "source": [
    "#ploting distribution of checkboards\n",
    "fig = plt.figure(figsize=(8,6))\n",
    "plt.hist(no_CUs, bins=50);\n",
    "plt.xlabel(\"Checkboards\",size=18)\n",
    "plt.ylabel(\"Index\",size=18);\n"
   ]
  },
  {
   "cell_type": "code",
   "execution_count": null,
   "metadata": {},
   "outputs": [],
   "source": []
  }
 ],
 "metadata": {
  "kernelspec": {
   "display_name": "Python 3",
   "language": "python",
   "name": "python3"
  },
  "language_info": {
   "codemirror_mode": {
    "name": "ipython",
    "version": 3
   },
   "file_extension": ".py",
   "mimetype": "text/x-python",
   "name": "python",
   "nbconvert_exporter": "python",
   "pygments_lexer": "ipython3",
   "version": "3.7.6"
  }
 },
 "nbformat": 4,
 "nbformat_minor": 4
}
