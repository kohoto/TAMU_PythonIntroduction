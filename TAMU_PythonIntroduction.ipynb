{
  "nbformat": 4,
  "nbformat_minor": 0,
  "metadata": {
    "colab": {
      "name": "TAMU_PythonIntroduction.ipynb",
      "provenance": [],
      "collapsed_sections": [],
      "authorship_tag": "ABX9TyOv2cpIQK0Xpu9wVC04OvYJ",
      "include_colab_link": true
    },
    "kernelspec": {
      "name": "python3",
      "display_name": "Python 3"
    },
    "language_info": {
      "name": "python"
    }
  },
  "cells": [
    {
      "cell_type": "markdown",
      "metadata": {
        "id": "view-in-github",
        "colab_type": "text"
      },
      "source": [
        "<a href=\"https://colab.research.google.com/github/kohoto/TAMU_PythonIntroduction/blob/main/TAMU_PythonIntroduction.ipynb\" target=\"_parent\"><img src=\"https://colab.research.google.com/assets/colab-badge.svg\" alt=\"Open In Colab\"/></a>"
      ]
    },
    {
      "cell_type": "markdown",
      "metadata": {
        "id": "wbvROhPtLNgE"
      },
      "source": [
        "# Example 1"
      ]
    },
    {
      "cell_type": "code",
      "metadata": {
        "id": "AuR8uwr_FUwU"
      },
      "source": [
        "# import libraries\n",
        "import matplotlib.pyplot as plt\n",
        "import numpy as np\n",
        "plt.style.use('seaborn-notebook') # ?? This is not working\n",
        "from scipy.optimize import curve_fit # This is to get fitting parameters for production rate"
      ],
      "execution_count": 112,
      "outputs": []
    },
    {
      "cell_type": "code",
      "metadata": {
        "colab": {
          "base_uri": "https://localhost:8080/"
        },
        "id": "ol-Xquz2GoTx",
        "outputId": "caa51938-57e0-4e4b-8faa-8e17ae93614a"
      },
      "source": [
        "a=1\n",
        "b=2\n",
        "c=a+b\n",
        "c"
      ],
      "execution_count": 113,
      "outputs": [
        {
          "output_type": "execute_result",
          "data": {
            "text/plain": [
              "3"
            ]
          },
          "metadata": {
            "tags": []
          },
          "execution_count": 113
        }
      ]
    },
    {
      "cell_type": "code",
      "metadata": {
        "id": "h6aJw4OFGqN6"
      },
      "source": [
        "### This is the raw data from production well in the world, with monthly frequency."
      ],
      "execution_count": 114,
      "outputs": []
    },
    {
      "cell_type": "code",
      "metadata": {
        "id": "tXdIMxhbG0j-"
      },
      "source": [
        "d=3.1"
      ],
      "execution_count": 115,
      "outputs": []
    },
    {
      "cell_type": "code",
      "metadata": {
        "colab": {
          "base_uri": "https://localhost:8080/"
        },
        "id": "8tsEYdYyGxrb",
        "outputId": "0847fb26-b1e0-4e7e-c230-4cd09387ae7b"
      },
      "source": [
        "whos"
      ],
      "execution_count": 116,
      "outputs": [
        {
          "output_type": "stream",
          "text": [
            "Variable       Type        Data/Info\n",
            "------------------------------------\n",
            "a              int         1\n",
            "b              int         2\n",
            "c              int         3\n",
            "d              float       3.1\n",
            "initial_rate   int         5000\n",
            "m              float       1.5\n",
            "matplotlib     module      <module 'matplotlib' from<...>/matplotlib/__init__.py'>\n",
            "mydictionary   dict        n=2\n",
            "myfun          function    <function myfun at 0x7fc357df1560>\n",
            "mylist         list        n=3\n",
            "mytuple        tuple       n=3\n",
            "np             module      <module 'numpy' from '/us<...>kages/numpy/__init__.py'>\n",
            "plt            module      <module 'matplotlib.pyplo<...>es/matplotlib/pyplot.py'>\n",
            "rate           float64     111.02411481522728\n",
            "term1          float       2.0605887450304574\n",
            "time           int         50\n",
            "times          list        n=27\n",
            "well_rate      list        n=27\n"
          ],
          "name": "stdout"
        }
      ]
    },
    {
      "cell_type": "code",
      "metadata": {
        "id": "h_h60IxPHPbh"
      },
      "source": [
        "times = [0.01, 30, 61, 91, 122, 153, 183, 214, 244, 275, 306, 334, 365, 395, 426, 456, 487, 518, 548, 579, 609, 640, 671, 699, 730, 760, 791]\n",
        "\n",
        "well_rate = [248.956137704918, 434.084242622951, 383.696186885246, 400.761678688525, 322.644003278689, \n",
        "             225.643954098361, 208.289740983607, 168.054363934426, 145.511416393443, 150.106209836066, \n",
        "             133.21188852459, 112.300216393443, 114.898708196721, 103.527213114754, 137.146747540984, \n",
        "             204.845708196721, 186.109757377049, 153.191403278689, 156.666370491803, 145.631029508197, \n",
        "             142.323108196721, 144.104931147541, 130.759819672131, 118.414921311475, 129.520380327869, \n",
        "             119.386262295082, 120.372039344262]\n",
        "\n"
      ],
      "execution_count": 117,
      "outputs": []
    },
    {
      "cell_type": "code",
      "metadata": {
        "id": "ngYfQEf0IAzP"
      },
      "source": [
        "# Tuples\n",
        "mytuple = (1.2, 23.5, 35) \n",
        "mylist = [5, \"Tohoko\", mytuple] # Square blaket!\n",
        "# list can hold all data for ML model.\n",
        "mydictionary = {'wellx':'Permian',\n",
        "                'welly':'Eagle Ford'\n",
        "                }\n",
        "                # What object you're trying to work with? is the most important!!\n"
      ],
      "execution_count": 118,
      "outputs": []
    },
    {
      "cell_type": "code",
      "metadata": {
        "colab": {
          "base_uri": "https://localhost:8080/"
        },
        "id": "CFJdiOmsIIAv",
        "outputId": "cc058d23-dba3-4da6-90dc-7fc2db672f30"
      },
      "source": [
        "whos"
      ],
      "execution_count": 119,
      "outputs": [
        {
          "output_type": "stream",
          "text": [
            "Variable       Type        Data/Info\n",
            "------------------------------------\n",
            "a              int         1\n",
            "b              int         2\n",
            "c              int         3\n",
            "d              float       3.1\n",
            "initial_rate   int         5000\n",
            "m              float       1.5\n",
            "matplotlib     module      <module 'matplotlib' from<...>/matplotlib/__init__.py'>\n",
            "mydictionary   dict        n=2\n",
            "myfun          function    <function myfun at 0x7fc357df1560>\n",
            "mylist         list        n=3\n",
            "mytuple        tuple       n=3\n",
            "np             module      <module 'numpy' from '/us<...>kages/numpy/__init__.py'>\n",
            "plt            module      <module 'matplotlib.pyplo<...>es/matplotlib/pyplot.py'>\n",
            "rate           float64     111.02411481522728\n",
            "term1          float       2.0605887450304574\n",
            "time           int         50\n",
            "times          list        n=27\n",
            "well_rate      list        n=27\n"
          ],
          "name": "stdout"
        }
      ]
    },
    {
      "cell_type": "code",
      "metadata": {
        "colab": {
          "base_uri": "https://localhost:8080/"
        },
        "id": "S6q-X_GWIJaQ",
        "outputId": "5eaf1c3a-0555-4d9d-9c92-049d85b6248e"
      },
      "source": [
        "# Let's talk about list\n",
        "# Print items in the hard way\n",
        "print(well_rate[0]) # First item\n",
        "print(well_rate[len(well_rate)-1]) # Last item"
      ],
      "execution_count": 120,
      "outputs": [
        {
          "output_type": "stream",
          "text": [
            "248.956137704918\n",
            "120.372039344262\n"
          ],
          "name": "stdout"
        }
      ]
    },
    {
      "cell_type": "code",
      "metadata": {
        "colab": {
          "base_uri": "https://localhost:8080/"
        },
        "id": "5iH2SHIuJgxQ",
        "outputId": "8774966a-64fd-47ef-a84f-76b7c7ade84f"
      },
      "source": [
        "# Print items in the easy way\n",
        "print(well_rate[-1]) # Last item -- Why this indicate the last item??"
      ],
      "execution_count": 121,
      "outputs": [
        {
          "output_type": "stream",
          "text": [
            "120.372039344262\n"
          ],
          "name": "stdout"
        }
      ]
    },
    {
      "cell_type": "code",
      "metadata": {
        "colab": {
          "base_uri": "https://localhost:8080/",
          "height": 397
        },
        "id": "y0cDE1YMKLvJ",
        "outputId": "db2b4fcb-2a95-4f52-808a-31d1f4ce9460"
      },
      "source": [
        "plt.scatter(times,well_rate)\n",
        "plt.xlabel('Time [days]')\n",
        "plt.ylabel('Rate [bpd]')\n",
        "plt.title('WellX')\n"
      ],
      "execution_count": 122,
      "outputs": [
        {
          "output_type": "execute_result",
          "data": {
            "text/plain": [
              "Text(0.5, 1.0, 'WellX')"
            ]
          },
          "metadata": {
            "tags": []
          },
          "execution_count": 122
        },
        {
          "output_type": "display_data",
          "data": {
            "image/png": "[encoded data removed]",
            "text/plain": [
              "<Figure size 576x396 with 1 Axes>"
            ]
          },
          "metadata": {
            "tags": [],
            "needs_background": "light"
          }
        }
      ]
    },
    {
      "cell_type": "code",
      "metadata": {
        "colab": {
          "base_uri": "https://localhost:8080/",
          "height": 35
        },
        "id": "PB19iGX1L6UI",
        "outputId": "bc025acf-df3b-470f-e28d-eb2c5e2e3f47"
      },
      "source": [
        "plt.style.available"
      ],
      "execution_count": 123,
      "outputs": [
        {
          "output_type": "execute_result",
          "data": {
            "application/vnd.google.colaboratory.intrinsic+json": {
              "type": "string"
            },
            "text/plain": [
              "'seaborn-notebook'"
            ]
          },
          "metadata": {
            "tags": []
          },
          "execution_count": 123
        }
      ]
    },
    {
      "cell_type": "markdown",
      "metadata": {
        "id": "P2iVpMNqNPvi"
      },
      "source": [
        "### Doung equation (unconventional DCA option)\n",
        "\n",
        "$$ q=q_it^{-m}\\exp ^{\\frac{a}{1-m}(t^{1-m}-1)}$$\n"
      ]
    },
    {
      "cell_type": "code",
      "metadata": {
        "colab": {
          "base_uri": "https://localhost:8080/"
        },
        "id": "GMviXcFWMqch",
        "outputId": "7e135111-17f8-4b42-9fbd-bdb29f2ee841"
      },
      "source": [
        "# DCA ... Decline curve analysis\n",
        "time = 50\n",
        "a = 1.2\n",
        "m = 1.5\n",
        "initial_rate = 5000;\n",
        "\n",
        "term1 = (a/(1-m))*(time**(1-m)-1)\n",
        "rate = initial_rate*time**-m*(np.exp(term1))\n",
        "rate"
      ],
      "execution_count": 124,
      "outputs": [
        {
          "output_type": "execute_result",
          "data": {
            "text/plain": [
              "111.02411481522728"
            ]
          },
          "metadata": {
            "tags": []
          },
          "execution_count": 124
        }
      ]
    },
    {
      "cell_type": "code",
      "metadata": {
        "colab": {
          "base_uri": "https://localhost:8080/"
        },
        "id": "JzesrFclOoWA",
        "outputId": "a118d5cf-850c-4f65-eaac-821b377e5af4"
      },
      "source": [
        "a = 1.2\n",
        "m = 1.5\n",
        "initial_rate = 5000;\n",
        "\n",
        "term1 = (a/(1-m))*(np.power(times,(1-m))-1)\n",
        "rate = initial_rate*np.power(times,-m)*np.exp(term1)\n",
        "rate"
      ],
      "execution_count": 137,
      "outputs": [
        {
          "output_type": "execute_result",
          "data": {
            "text/plain": [
              "array([2.08069870e-03, 2.16419591e+02, 8.50801611e+01, 4.93686482e+01,\n",
              "       3.29132672e+01, 2.39868991e+01, 1.86444937e+01, 1.49418880e+01,\n",
              "       1.24012416e+01, 1.04574129e+01, 8.97655942e+00, 7.91816546e+00,\n",
              "       6.97076810e+00, 6.22209980e+00, 5.58036280e+00, 5.05846805e+00,\n",
              "       4.59993708e+00, 4.20712864e+00, 3.87775874e+00, 3.58048719e+00,\n",
              "       3.32747208e+00, 3.09603604e+00, 2.89038154e+00, 2.72356243e+00,\n",
              "       2.55690720e+00, 2.41128160e+00, 2.27484533e+00])"
            ]
          },
          "metadata": {
            "tags": []
          },
          "execution_count": 137
        }
      ]
    },
    {
      "cell_type": "code",
      "metadata": {
        "id": "atigIEgyPzJX"
      },
      "source": [
        "# Painful way\n",
        "new_q = []\n",
        "for i in range(len(times))\n",
        "new_q = \n",
        "\n",
        "# still list\n",
        "# Solving the issue above with Numpy\n",
        "new_q2 = np.power(times,(9)1-m)\n",
        "type(new_q2)"
      ],
      "execution_count": null,
      "outputs": []
    },
    {
      "cell_type": "code",
      "metadata": {
        "id": "WUrr4Dv6QUoR"
      },
      "source": [
        "2*new_q2"
      ],
      "execution_count": null,
      "outputs": []
    },
    {
      "cell_type": "code",
      "metadata": {
        "id": "utgA0UZTQVzS"
      },
      "source": [
        "# Let's define a function\n",
        "def myfun():\n",
        "  internal_a = 1\n",
        "  return internal_a"
      ],
      "execution_count": null,
      "outputs": []
    },
    {
      "cell_type": "code",
      "metadata": {
        "id": "vdODon7zQiFK"
      },
      "source": [
        "myfun()"
      ],
      "execution_count": null,
      "outputs": []
    },
    {
      "cell_type": "code",
      "metadata": {
        "id": "izqG7-EHQ22D"
      },
      "source": [
        "def myfun2(b):\n",
        "internal_a = 1+b\n",
        "return internal_a"
      ],
      "execution_count": null,
      "outputs": []
    },
    {
      "cell_type": "code",
      "metadata": {
        "id": "c21Y30pVQ_Q9"
      },
      "source": [
        "# There is no internal_a!\n",
        "whos"
      ],
      "execution_count": null,
      "outputs": []
    },
    {
      "cell_type": "code",
      "metadata": {
        "id": "GL5kGqwhRN5Q"
      },
      "source": [
        "def doung(internal_time, internal_m, internal_a, initial_rate):\n",
        "  term1 = (a/(1-m))*(np.power(internal_time,(1-m))-1)\n",
        "  rates = initial_rate*np.power(internal_time,-m)*np.exp(term1)\n",
        "  return rates"
      ],
      "execution_count": 138,
      "outputs": []
    },
    {
      "cell_type": "code",
      "metadata": {
        "colab": {
          "base_uri": "https://localhost:8080/"
        },
        "id": "Maby1RqKSSPl",
        "outputId": "15b69dcd-bded-4a8c-f889-7b5e41e92527"
      },
      "source": [
        "doung(times, 1.5, 1.5, 5000)"
      ],
      "execution_count": 139,
      "outputs": [
        {
          "output_type": "execute_result",
          "data": {
            "text/plain": [
              "array([2.08069870e-03, 2.16419591e+02, 8.50801611e+01, 4.93686482e+01,\n",
              "       3.29132672e+01, 2.39868991e+01, 1.86444937e+01, 1.49418880e+01,\n",
              "       1.24012416e+01, 1.04574129e+01, 8.97655942e+00, 7.91816546e+00,\n",
              "       6.97076810e+00, 6.22209980e+00, 5.58036280e+00, 5.05846805e+00,\n",
              "       4.59993708e+00, 4.20712864e+00, 3.87775874e+00, 3.58048719e+00,\n",
              "       3.32747208e+00, 3.09603604e+00, 2.89038154e+00, 2.72356243e+00,\n",
              "       2.55690720e+00, 2.41128160e+00, 2.27484533e+00])"
            ]
          },
          "metadata": {
            "tags": []
          },
          "execution_count": 139
        }
      ]
    },
    {
      "cell_type": "code",
      "metadata": {
        "colab": {
          "base_uri": "https://localhost:8080/",
          "height": 553
        },
        "id": "6gbrBW2ESuz4",
        "outputId": "9673139b-2f6c-4808-e172-d27441c58715"
      },
      "source": [
        "plt.figure(figsize=(15,8))\n",
        "plt.scatter(times,well_rate)\n",
        "plt.xlabel('Time [days]')\n",
        "plt.ylabel('Rate [bpd]')\n",
        "plt.title('WellX')\n",
        "q_new4 = doung(times,1.2,1.2,6000)\n",
        "plt.plot(times,q_new4,color='blue',label='My First Duong guess')"
      ],
      "execution_count": 140,
      "outputs": [
        {
          "output_type": "execute_result",
          "data": {
            "text/plain": [
              "[<matplotlib.lines.Line2D at 0x7fc358a69390>]"
            ]
          },
          "metadata": {
            "tags": []
          },
          "execution_count": 140
        },
        {
          "output_type": "display_data",
          "data": {
            "image/png": "[encoded data removed]",
            "text/plain": [
              "<Figure size 1080x576 with 1 Axes>"
            ]
          },
          "metadata": {
            "tags": [],
            "needs_background": "light"
          }
        }
      ]
    },
    {
      "cell_type": "code",
      "metadata": {
        "colab": {
          "base_uri": "https://localhost:8080/",
          "height": 380
        },
        "id": "BWsuKh_XTaLS",
        "outputId": "8bc624df-b03c-457d-d5a3-7d7aee2296aa"
      },
      "source": [
        "n = 6\n",
        "qs = np.linspace(5000, 10000, n)\n",
        "a_coefs = np.linspace(1.01, 2.0, n)\n",
        "m_coefs = np.linspace(1.01, 2.0, n)\n",
        "for i in range(6):\n",
        "  #plt.figure(figsize=(15,8))\n",
        "  plt.scatter(times,well_rate)\n",
        "  plt.xlabel('Time [days]')\n",
        "  plt.ylabel('Rate [bpd]')\n",
        "  plt.title('WellX')\n",
        "  q_new4 = doung(times,m_coefs[i],a_coefs[i],qs[i])\n",
        "  plt.plot(times,q_new4,color='blue',label=f'm={m_coefs[i]},a={a_coefs[i]}, rate={qs[i]}')\n",
        "plt.legend()\n",
        "plt.show()"
      ],
      "execution_count": 144,
      "outputs": [
        {
          "output_type": "display_data",
          "data": {
            "image/png": "[encoded data removed]",
            "text/plain": [
              "<Figure size 576x396 with 1 Axes>"
            ]
          },
          "metadata": {
            "tags": [],
            "needs_background": "light"
          }
        }
      ]
    },
    {
      "cell_type": "markdown",
      "metadata": {
        "id": "BVNuAlGdWeUX"
      },
      "source": [
        "### Try to fit the coefficients using scipy.optimize"
      ]
    },
    {
      "cell_type": "code",
      "metadata": {
        "id": "za6vAp6KVqqc"
      },
      "source": [
        "# Try to fit the coefficients using scipy.optimize\n",
        "# curve_fit\n"
      ],
      "execution_count": null,
      "outputs": []
    }
  ]
}